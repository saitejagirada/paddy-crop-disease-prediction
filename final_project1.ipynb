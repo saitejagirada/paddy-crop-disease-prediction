{
  "cells": [
    {
      "cell_type": "code",
      "execution_count": 12,
      "metadata": {
        "id": "v_6hAv1qgEjk"
      },
      "outputs": [],
      "source": [
        "import torch\n",
        "import torch.nn as nn\n",
        "import torchvision.models as models\n",
        "import torch.optim as optim\n",
        "import os\n",
        "from torchvision.datasets import ImageFolder\n",
        "from torch.utils.data import DataLoader\n",
        "\n",
        "#device = torch.device(\"mps\" if torch.backends.mps.is_available() else \"cpu\")\n",
        "device = torch.device(\"cuda\" if torch.cuda.is_available() else \"cpu\")"
      ]
    },
    {
      "cell_type": "code",
      "source": [
        "from google.colab import drive\n",
        "drive.mount('/content/drive')"
      ],
      "metadata": {
        "id": "n5Smgi6qcN3A"
      },
      "execution_count": null,
      "outputs": []
    },
    {
      "cell_type": "markdown",
      "metadata": {
        "id": "QMoAJ0YW7jm_",
        "outputId": "1cf5eaa6-34c9-4158-86dc-4654803ac2fd"
      },
      "source": [
        "from google.colab import drive\n",
        "drive.mount('/content/drive')"
      ]
    },
    {
      "cell_type": "code",
      "execution_count": 13,
      "metadata": {
        "colab": {
          "base_uri": "https://localhost:8080/"
        },
        "id": "F08Yb1kX8w5i",
        "outputId": "7b9434ed-ba40-4d34-863b-0d655004656c"
      },
      "outputs": [
        {
          "output_type": "stream",
          "name": "stdout",
          "text": [
            "Files in /content/drive/My Drive/Rice_Leaf_Diease/train_new:\n",
            " (1).DS_Store\n",
            "leaf_blast (1)\n",
            "narrow_brown_spot (1)\n",
            "leaf_scald (1)\n",
            "bacterial_leaf_blight (1)\n",
            "Tungro (1)\n",
            "healthy (1)\n",
            "Sheath Blight (1)\n",
            "Rice Hispa (1)\n",
            "brown_spot (1)\n",
            "Neck_Blast (1)\n"
          ]
        }
      ],
      "source": [
        "import os\n",
        "\n",
        "# List the contents of a specific folder in your Drive, for example, a 'datasets' folder\n",
        "drive_path = \"/content/drive/My Drive/Rice_Leaf_Diease/train_new\"\n",
        "\n",
        "if os.path.exists(drive_path):\n",
        "    files = os.listdir(drive_path)\n",
        "    print(f\"Files in {drive_path}:\")\n",
        "    for file in files:\n",
        "        print(file)\n",
        "else:\n",
        "    print(f\"The directory {drive_path} does not exist.\")"
      ]
    },
    {
      "cell_type": "code",
      "execution_count": 14,
      "metadata": {
        "id": "8p2qfwSFgf4u"
      },
      "outputs": [],
      "source": [
        "model=models.resnet34(pretrained=True)\n",
        "num_ftrs = model.fc.in_features\n",
        "model.fc = nn.Linear(num_ftrs, 10)\n",
        "\n",
        "\n",
        "# Freeze all layers except the final classification layer\n",
        "#for name, param in model.named_parameters():\n",
        "#    if 'fc' in name: # Check if the parameter belongs to the final fully connected layer\n",
        "#        param.requires_grad = True\n",
        "#    else:\n",
        "#        param.requires_grad = False"
      ]
    },
    {
      "cell_type": "code",
      "execution_count": 15,
      "metadata": {
        "id": "95eaae4e"
      },
      "outputs": [],
      "source": [
        "from torchvision import transforms\n",
        "\n",
        "# Define transformations for training data\n",
        "train_transforms = transforms.Compose([\n",
        "    transforms.RandomResizedCrop(224),\n",
        "    transforms.RandomHorizontalFlip(),\n",
        "    transforms.ToTensor(),\n",
        "    transforms.Normalize([0.485, 0.456, 0.406], [0.229, 0.224, 0.225])\n",
        "])\n",
        "\n",
        "# Define transformations for testing data\n",
        "test_transforms = transforms.Compose([\n",
        "    transforms.Resize(256),\n",
        "    transforms.CenterCrop(224),\n",
        "    transforms.ToTensor(),\n",
        "    transforms.Normalize([0.485, 0.456, 0.406], [0.229, 0.224, 0.225])\n",
        "])"
      ]
    },
    {
      "cell_type": "code",
      "execution_count": 16,
      "metadata": {
        "colab": {
          "base_uri": "https://localhost:8080/"
        },
        "id": "dWvxSqCM7arU",
        "outputId": "20cd2a84-9379-45ae-c5ef-cb4fe5c0c6ec"
      },
      "outputs": [
        {
          "output_type": "stream",
          "name": "stdout",
          "text": [
            "Total images in the dataset: 1095\n",
            "Splitting into 876 training samples and 219 validation samples.\n",
            "DataLoaders for training and validation have been created successfully.\n"
          ]
        }
      ],
      "source": [
        "from torch.utils.data import DataLoader, random_split\n",
        "from torchvision.datasets import ImageFolder\n",
        "import torch\n",
        "\n",
        "# Assume train_transforms is already defined\n",
        "\n",
        "# 1. Define the path to your data directory\n",
        "train_dir = '/content/drive/My Drive/Rice_Leaf_Diease/train_new' # Corrected path\n",
        "\n",
        "# 2. Create the full ImageFolder dataset\n",
        "full_dataset = ImageFolder(root=train_dir, transform=train_transforms)\n",
        "print(f\"Total images in the dataset: {len(full_dataset)}\")\n",
        "\n",
        "# 3. Define the sizes for your training and validation sets\n",
        "# Let's use an 80/20 split of the entire dataset\n",
        "train_size = int(0.8 * len(full_dataset))\n",
        "val_size = len(full_dataset) - train_size\n",
        "print(f\"Splitting into {train_size} training samples and {val_size} validation samples.\")\n",
        "\n",
        "\n",
        "# 4. Perform the split using random_split\n",
        "# This ensures the validation set has not been seen during training\n",
        "# A generator is used for reproducibility of the split\n",
        "generator = torch.Generator().manual_seed(42) # Use a fixed seed for consistent splits\n",
        "train_subset, val_subset = random_split(full_dataset, [train_size, val_size], generator=generator)\n",
        "\n",
        "# 5. Create the DataLoaders from the new Subset objects\n",
        "# Use clear and distinct variable names\n",
        "train_loader = DataLoader(\n",
        "    train_subset,\n",
        "    batch_size=32,\n",
        "    shuffle=True,\n",
        "    num_workers=2, # Reduced number of workers\n",
        "    pin_memory=True\n",
        ")\n",
        "\n",
        "val_loader = DataLoader(\n",
        "    val_subset,\n",
        "    batch_size=32,\n",
        "    shuffle=False,  # No need to shuffle the validation set\n",
        "    num_workers=2, # Reduced number of workers\n",
        "    pin_memory=True\n",
        ")\n",
        "\n",
        "print(\"DataLoaders for training and validation have been created successfully.\")"
      ]
    },
    {
      "cell_type": "code",
      "execution_count": 17,
      "metadata": {
        "id": "q60Ft3Jt7arU"
      },
      "outputs": [],
      "source": [
        "criterian=nn.CrossEntropyLoss()"
      ]
    },
    {
      "cell_type": "code",
      "execution_count": 18,
      "metadata": {
        "id": "d55881f0"
      },
      "outputs": [],
      "source": [
        "import torch.optim as optim\n",
        "loss_fn=nn.CrossEntropyLoss()\n",
        "# Define the optimizer\n",
        "optimizer = optim.Adam(model.parameters(), lr=0.0001)"
      ]
    },
    {
      "cell_type": "code",
      "execution_count": 19,
      "metadata": {
        "id": "540b2f05"
      },
      "outputs": [],
      "source": [
        "\n",
        "def train(model,train_loader,loss_fn,optimizer):\n",
        "    model.train()\n",
        "\n",
        "    running_loss=0.0\n",
        "    correc_predict=0\n",
        "    total_samp=0\n",
        "    for inputs,labels in train_loader:\n",
        "        inputs,labels=inputs.to(device),labels.to(device)\n",
        "        optimizer.zero_grad()\n",
        "        outputs=model(inputs)\n",
        "        loss=loss_fn(outputs,labels)\n",
        "        loss.backward()\n",
        "        optimizer.step() # Use xm.optimizer_step for TPU # Add mark_step for TPU\n",
        "\n",
        "\n",
        "        running_loss=loss.item()*inputs.size(0)\n",
        "        _,predicted=torch.max(outputs.data,1)\n",
        "        total_samp+=labels.size(0)\n",
        "        correc_predict+=(predicted==labels).sum().item()\n",
        "    epoch_loss=running_loss/total_samp\n",
        "    epoch_acc=100*correc_predict/total_samp\n",
        "\n",
        "    return epoch_loss,epoch_acc\n",
        "\n",
        "def evaluate(model,val_loader,loss_fn):\n",
        "    model.eval()\n",
        "\n",
        "    running_loss=0.0\n",
        "    correc_predict=0\n",
        "    total_samp=0\n",
        "    with torch.no_grad():\n",
        "        for inputs,labels in val_loader:\n",
        "            inputs,labels=inputs.to(device),labels.to(device)\n",
        "\n",
        "            outputs=model(inputs)\n",
        "            loss=loss_fn(outputs,labels)\n",
        "\n",
        "            running_loss=loss.item()*inputs.size(0)\n",
        "        _,predicted=torch.max(outputs.data,1)\n",
        "        total_samp+=labels.size(0)\n",
        "        correc_predict+=(predicted==labels).sum().item()\n",
        "    epoch_loss=running_loss/total_samp\n",
        "    epoch_acc=100*correc_predict/total_samp\n",
        "\n",
        "    return epoch_loss,epoch_acc"
      ]
    },
    {
      "cell_type": "markdown",
      "metadata": {
        "id": "992e619b"
      },
      "source": [
        "**Reasoning**:\n",
        "I will execute the training loop for a specified number of epochs and evaluate the model periodically. Since the previous steps for setting up the training loop and evaluation are complete, I can combine these into a single block to train and evaluate the model for a few epochs. I will set the number of epochs to 5 and evaluate after each epoch to monitor the training progress.\n",
        "\n"
      ]
    },
    {
      "cell_type": "code",
      "execution_count": 20,
      "metadata": {
        "colab": {
          "base_uri": "https://localhost:8080/"
        },
        "id": "da8e2df6",
        "outputId": "ab52042a-39a8-41de-dfab-e28f001f8120"
      },
      "outputs": [
        {
          "output_type": "stream",
          "name": "stdout",
          "text": [
            "epoch1:train_loss:0.01,train_acc75.5708:eval_loss:0.64,eval_acc70.3704:\n",
            "epoch2:train_loss:0.00,train_acc91.3242:eval_loss:0.31,eval_acc88.8889:\n",
            "epoch3:train_loss:0.00,train_acc94.6347:eval_loss:0.34,eval_acc92.5926:\n",
            "epoch4:train_loss:0.01,train_acc93.8356:eval_loss:0.33,eval_acc88.8889:\n",
            "epoch5:train_loss:0.00,train_acc95.2055:eval_loss:0.53,eval_acc85.1852:\n",
            "epoch6:train_loss:0.01,train_acc96.3470:eval_loss:0.21,eval_acc92.5926:\n",
            "epoch7:train_loss:0.00,train_acc96.4612:eval_loss:0.33,eval_acc88.8889:\n",
            "epoch8:train_loss:0.01,train_acc96.4612:eval_loss:0.28,eval_acc88.8889:\n",
            "epoch9:train_loss:0.00,train_acc95.7763:eval_loss:0.37,eval_acc92.5926:\n",
            "epoch10:train_loss:0.00,train_acc97.2603:eval_loss:0.29,eval_acc85.1852:\n",
            "epoch11:train_loss:0.00,train_acc96.2329:eval_loss:0.31,eval_acc88.8889:\n",
            "epoch12:train_loss:0.00,train_acc97.6027:eval_loss:0.45,eval_acc85.1852:\n",
            "epoch13:train_loss:0.00,train_acc97.0320:eval_loss:0.20,eval_acc92.5926:\n",
            "epoch14:train_loss:0.00,train_acc97.0320:eval_loss:0.26,eval_acc96.2963:\n",
            "epoch15:train_loss:0.00,train_acc97.3744:eval_loss:0.22,eval_acc96.2963:\n",
            "epoch16:train_loss:0.00,train_acc97.1461:eval_loss:0.20,eval_acc88.8889:\n",
            "epoch17:train_loss:0.00,train_acc98.0594:eval_loss:0.12,eval_acc92.5926:\n",
            "epoch18:train_loss:0.00,train_acc97.4886:eval_loss:0.36,eval_acc96.2963:\n",
            "epoch19:train_loss:0.00,train_acc97.8311:eval_loss:0.59,eval_acc88.8889:\n",
            "epoch20:train_loss:0.00,train_acc97.4886:eval_loss:0.32,eval_acc88.8889:\n",
            "training finished\n"
          ]
        }
      ],
      "source": [
        "eproaches=20\n",
        "model.to(device)\n",
        "for epoch in range(eproaches):\n",
        "    train_loss,train_acc=train(model,train_loader,loss_fn,optimizer)\n",
        "    eval_loss,eval_acc=evaluate(model,val_loader,loss_fn)\n",
        "\n",
        "    print(f\"epoch{epoch+1}:\"\n",
        "          f\"train_loss:{train_loss:.2f},train_acc{train_acc:.4f}:\"\n",
        "          f\"eval_loss:{eval_loss:.2f},eval_acc{eval_acc:.4f}:\")\n",
        "print(\"training finished\")"
      ]
    },
    {
      "cell_type": "code",
      "execution_count": 21,
      "metadata": {
        "id": "JtDG9yhUcE3L",
        "outputId": "4484b65d-688e-431f-feb1-b43d474327a2",
        "colab": {
          "base_uri": "https://localhost:8080/"
        }
      },
      "outputs": [
        {
          "output_type": "stream",
          "name": "stdout",
          "text": [
            "Model saved to rice_leaf_disease.pth\n"
          ]
        }
      ],
      "source": [
        "MODEL_SAVE_PATH = 'rice_leaf_disease.pth'\n",
        "\n",
        "# Save the model's state dictionary\n",
        "torch.save(model.state_dict(), MODEL_SAVE_PATH)\n",
        "\n",
        "print(f\"Model saved to {MODEL_SAVE_PATH}\")"
      ]
    },
    {
      "cell_type": "code",
      "execution_count": 25,
      "metadata": {
        "id": "mukAYQBucE3L",
        "outputId": "44a209a8-175e-4447-e365-84b9f198186d",
        "colab": {
          "base_uri": "https://localhost:8080/"
        }
      },
      "outputs": [
        {
          "output_type": "stream",
          "name": "stdout",
          "text": [
            "Setting up your custom model and environment...\n",
            "Using device: cpu\n",
            "Setup complete. Starting prediction...\n",
            "------------------------------\n",
            "Image Path:   kkl.jpg\n",
            "Prediction:   Brown Spot (1)\n",
            "Confidence:   99.99%\n"
          ]
        }
      ],
      "source": [
        "! python3 predict_custom.py kkl.jpg"
      ]
    },
    {
      "cell_type": "code",
      "execution_count": 22,
      "metadata": {
        "id": "WUC1woPMcE3M"
      },
      "outputs": [],
      "source": []
    }
  ],
  "metadata": {
    "accelerator": "GPU",
    "colab": {
      "gpuType": "T4",
      "provenance": []
    },
    "kernelspec": {
      "display_name": "Python 3",
      "name": "python3"
    },
    "language_info": {
      "codemirror_mode": {
        "name": "ipython",
        "version": 3
      },
      "file_extension": ".py",
      "mimetype": "text/x-python",
      "name": "python",
      "nbconvert_exporter": "python",
      "pygments_lexer": "ipython3",
      "version": "3.8.20"
    }
  },
  "nbformat": 4,
  "nbformat_minor": 0
}